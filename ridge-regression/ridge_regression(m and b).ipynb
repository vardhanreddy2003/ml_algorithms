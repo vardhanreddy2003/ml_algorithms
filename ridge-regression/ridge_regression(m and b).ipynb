{
 "cells": [
  {
   "cell_type": "code",
   "execution_count": 1,
   "metadata": {},
   "outputs": [],
   "source": [
    "import numpy as np \n",
    "import pandas as pd"
   ]
  },
  {
   "cell_type": "code",
   "execution_count": null,
   "metadata": {},
   "outputs": [],
   "source": [
    "class RR:\n",
    "    \n",
    "    def __init__(self,alpha):\n",
    "        \n",
    "        self.alpha=alpha\n",
    "        self.m=None \n",
    "        self.b=None\n",
    "        \n",
    "    def fit(self,X_train,y_train):\n",
    "        \n",
    "        num=0\n",
    "        den=0\n",
    "        for i in range(X_train.shape[0]): \n",
    "            num+=(y_train[i]-y_train.mean())*(X_train[i]-X_train.mean())\n",
    "            den+=(X_train[i]-X_train.mean())*(X_train[i]-X_train.mean())\n",
    "            \n",
    "        self.m=num/(num+self.alpha)\n",
    "        self.b=y_train.mean()-(self.m*X_train.mean())\n",
    "        print(self.m,self.b)\n",
    "        \n",
    "    def predict(self,X_test):\n",
    "        \n",
    "        return X_test*self.m+self.b \n",
    "                \n",
    "        "
   ]
  }
 ],
 "metadata": {
  "kernelspec": {
   "display_name": "base",
   "language": "python",
   "name": "python3"
  },
  "language_info": {
   "codemirror_mode": {
    "name": "ipython",
    "version": 3
   },
   "file_extension": ".py",
   "mimetype": "text/x-python",
   "name": "python",
   "nbconvert_exporter": "python",
   "pygments_lexer": "ipython3",
   "version": "3.12.4"
  }
 },
 "nbformat": 4,
 "nbformat_minor": 2
}
