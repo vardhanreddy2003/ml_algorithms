{
 "cells": [
  {
   "cell_type": "code",
   "execution_count": 74,
   "metadata": {},
   "outputs": [],
   "source": [
    "import numpy as np \n",
    "import pandas as pd \n",
    "import matplotlib.pyplot as plt \n",
    "import seaborn as sns"
   ]
  },
  {
   "cell_type": "code",
   "execution_count": 75,
   "metadata": {},
   "outputs": [],
   "source": [
    "import random"
   ]
  },
  {
   "cell_type": "code",
   "execution_count": 76,
   "metadata": {},
   "outputs": [],
   "source": [
    "centroids=[(-5,5),(5,5)]\n",
    "cluster_std=[1,1]"
   ]
  },
  {
   "cell_type": "code",
   "execution_count": 77,
   "metadata": {},
   "outputs": [],
   "source": [
    "from sklearn.datasets import make_blobs"
   ]
  },
  {
   "cell_type": "code",
   "execution_count": 78,
   "metadata": {},
   "outputs": [],
   "source": [
    "X,y=make_blobs(n_samples=100,cluster_std=cluster_std,centers=centroids,n_features=2,random_state=2)"
   ]
  },
  {
   "cell_type": "code",
   "execution_count": 79,
   "metadata": {},
   "outputs": [],
   "source": [
    "class KMeans:\n",
    "    \n",
    "    def __init__(self,n_clusters,max_iter=100):\n",
    "        \n",
    "        self.n_clusters=n_clusters\n",
    "        self.max_iter=max_iter\n",
    "        self.centroids=None \n",
    "        \n",
    "    def fit_predict(self,X):\n",
    "        \n",
    "        random_index=random.sample(range(0,X.shape[0]),self.n_clusters)\n",
    "        self.centroids=X[random_index]\n",
    "        \n",
    "        for i in range(self.max_iter):\n",
    "            #assign clusters\n",
    "            cluster_group=self.assign_clusters(X)\n",
    "            \n",
    "            old_centroids=self.centroids\n",
    "            #move centroids\n",
    "            self.centroids=self.move_centroids(X,cluster_group)\n",
    "            #check centroids\n",
    "            if(old_centroids==self.centroids).all():\n",
    "                break\n",
    "            \n",
    "        return cluster_group\n",
    "                    \n",
    "    def assign_clusters(self,X):\n",
    "        \n",
    "        cluster_group=[]\n",
    "        distances=[]\n",
    "        \n",
    "        for row in X:\n",
    "            for centroid in self.centroids:\n",
    "                distances.append(np.sqrt(np.dot(row-centroid,row-centroid)))\n",
    "            min_distances=min(distances)\n",
    "            index_pos=distances.index(min_distances)\n",
    "            cluster_group.append(index_pos)\n",
    "            distances.clear()\n",
    "                   \n",
    "        return cluster_group  \n",
    "    \n",
    "    def move_centroids(self,X,cluster_group):  \n",
    "       \n",
    "        new_centroids=[]\n",
    "        \n",
    "        cluster_type=np.unique(cluster_group)\n",
    "        \n",
    "        for type in cluster_type:\n",
    "            \n",
    "           new_centroids.append( X[cluster_group==type].mean(axis=0))\n",
    "           \n",
    "        return np.array(new_centroids)\n",
    "            \n",
    "        \n",
    "        \n",
    "    "
   ]
  },
  {
   "cell_type": "code",
   "execution_count": 86,
   "metadata": {},
   "outputs": [],
   "source": [
    "kmeans=KMeans(2,100)\n",
    "y_means=kmeans.fit_predict(X)"
   ]
  },
  {
   "cell_type": "code",
   "execution_count": 103,
   "metadata": {},
   "outputs": [],
   "source": [
    "y_means=np.array(y_means)"
   ]
  },
  {
   "cell_type": "code",
   "execution_count": 105,
   "metadata": {},
   "outputs": [
    {
     "data": {
      "image/png": "[encoded data removed]",
      "text/plain": [
       "<Figure size 640x480 with 1 Axes>"
      ]
     },
     "metadata": {},
     "output_type": "display_data"
    }
   ],
   "source": [
    "plt.scatter(X[y_means==0,0],X[y_means==0,1],color=\"red\")\n",
    "plt.scatter(X[y_means==1,0],X[y_means==1,1],color=\"blue\")\n",
    "plt.show()"
   ]
  }
 ],
 "metadata": {
  "kernelspec": {
   "display_name": "base",
   "language": "python",
   "name": "python3"
  },
  "language_info": {
   "codemirror_mode": {
    "name": "ipython",
    "version": 3
   },
   "file_extension": ".py",
   "mimetype": "text/x-python",
   "name": "python",
   "nbconvert_exporter": "python",
   "pygments_lexer": "ipython3",
   "version": "3.12.4"
  }
 },
 "nbformat": 4,
 "nbformat_minor": 2
}
